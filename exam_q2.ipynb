{
 "cells": [
  {
   "cell_type": "code",
   "execution_count": 3,
   "metadata": {
    "collapsed": true
   },
   "outputs": [],
   "source": [
    "from selenium import webdriver\n",
    "\n",
    "browser = webdriver.Chrome()\n",
    "url = 'https://www.buy.am/en/partners'\n",
    "browser.get(url)"
   ]
  },
  {
   "cell_type": "code",
   "execution_count": 4,
   "metadata": {
    "collapsed": true
   },
   "outputs": [],
   "source": [
    "browser.execute_script(\"window.scrollTo(0, document.body.scrollHeight);\")"
   ]
  },
  {
   "cell_type": "code",
   "execution_count": 21,
   "metadata": {
    "collapsed": false
   },
   "outputs": [],
   "source": [
    "div = browser.find_element_by_class_name(\"main-content-cell-pad\")"
   ]
  },
  {
   "cell_type": "code",
   "execution_count": 23,
   "metadata": {
    "collapsed": false
   },
   "outputs": [],
   "source": [
    "from urlparse import urlparse\n",
    "import os.path"
   ]
  },
  {
   "cell_type": "code",
   "execution_count": 37,
   "metadata": {
    "collapsed": false
   },
   "outputs": [],
   "source": [
    "categories = div.find_elements_by_tag_name(\"h2\")\n",
    "c_list = div.find_elements_by_tag_name(\"ul\")\n",
    "f = open('partners.json', 'w')\n",
    "if len(categories) == len(c_list):\n",
    "    f.write(\"{\")\n",
    "    tstr = \"\"\n",
    "    for i  in range(len(categories)):\n",
    "        category_name = categories[i]\n",
    "        f.write('\"' + category_name.text + '\": {\\n')\n",
    "        f.write('\"partners\": {\\n')\n",
    "        cc_list = c_list[i]\n",
    "        items = cc_list.find_elements_by_tag_name(\"li\")\n",
    "        tstr1 = \"\"\n",
    "        for item in items:\n",
    "            a = item.find_elements_by_tag_name(\"a\")[-1]\n",
    "            href = a.get_attribute(\"href\")\n",
    "            path = urlparse(href).path\n",
    "            name = os.path.split(path)[-1]\n",
    "            tstr1 += '\"' + name + '\": \"' + path + '\",\\n'\n",
    "        tstr += tstr1[:-2]\n",
    "        tstr += '},\\n'\n",
    "        tstr += '\"number_of_partners\": '\n",
    "        tstr += str(len(items)) + \"\\n\"\n",
    "        tstr += \"},\\n\"        \n",
    "    f.write(tstr[:-2])\n",
    "    f.write(\"}\")\n",
    "f.close()"
   ]
  },
  {
   "cell_type": "code",
   "execution_count": null,
   "metadata": {
    "collapsed": true
   },
   "outputs": [],
   "source": []
  }
 ],
 "metadata": {
  "kernelspec": {
   "display_name": "Python 2",
   "language": "python",
   "name": "python2"
  },
  "language_info": {
   "codemirror_mode": {
    "name": "ipython",
    "version": 2
   },
   "file_extension": ".py",
   "mimetype": "text/x-python",
   "name": "python",
   "nbconvert_exporter": "python",
   "pygments_lexer": "ipython2",
   "version": "2.7.13"
  }
 },
 "nbformat": 4,
 "nbformat_minor": 2
}
